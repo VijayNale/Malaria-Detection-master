{
  "nbformat": 4,
  "nbformat_minor": 0,
  "metadata": {
    "colab": {
      "name": "Malaria_detection.ipynb",
      "version": "0.3.2",
      "provenance": [],
      "collapsed_sections": [],
      "include_colab_link": true
    },
    "kernelspec": {
      "name": "python3",
      "display_name": "Python 3"
    },
    "accelerator": "GPU"
  },
  "cells": [
    {
      "cell_type": "markdown",
      "metadata": {
        "id": "view-in-github",
        "colab_type": "text"
      },
      "source": [
        "<a href=\"https://colab.research.google.com/github/VijayNale/Malaria-Detection-master/blob/master/Malaria_detection.ipynb\" target=\"_parent\"><img src=\"https://colab.research.google.com/assets/colab-badge.svg\" alt=\"Open In Colab\"/></a>"
      ]
    },
    {
      "cell_type": "markdown",
      "metadata": {
        "id": "I2Re1JBNhXYb",
        "colab_type": "text"
      },
      "source": [
        "**### Text weather GPU working**\n"
      ]
    },
    {
      "cell_type": "code",
      "metadata": {
        "id": "ZxXoZ91Pgr3K",
        "colab_type": "code",
        "colab": {
          "base_uri": "https://localhost:8080/",
          "height": 34
        },
        "outputId": "1da76b9b-38c9-4b76-a668-6c2b437a48a5"
      },
      "source": [
        "import tensorflow as tf\n",
        "tf.test.gpu_device_name()"
      ],
      "execution_count": 16,
      "outputs": [
        {
          "output_type": "execute_result",
          "data": {
            "text/plain": [
              "'/device:GPU:0'"
            ]
          },
          "metadata": {
            "tags": []
          },
          "execution_count": 16
        }
      ]
    },
    {
      "cell_type": "markdown",
      "metadata": {
        "id": "HkSQUTFDht5r",
        "colab_type": "text"
      },
      "source": [
        "## which GPU we are using"
      ]
    },
    {
      "cell_type": "code",
      "metadata": {
        "id": "mT4X8FKggsFi",
        "colab_type": "code",
        "colab": {
          "base_uri": "https://localhost:8080/",
          "height": 470
        },
        "outputId": "4e9e7370-c79d-42fa-a84f-2fc91b24ba0a"
      },
      "source": [
        "from tensorflow.python.client import device_lib\n",
        "device_lib.list_local_devices()"
      ],
      "execution_count": 4,
      "outputs": [
        {
          "output_type": "execute_result",
          "data": {
            "text/plain": [
              "[name: \"/device:CPU:0\"\n",
              " device_type: \"CPU\"\n",
              " memory_limit: 268435456\n",
              " locality {\n",
              " }\n",
              " incarnation: 17997252972505699363, name: \"/device:XLA_CPU:0\"\n",
              " device_type: \"XLA_CPU\"\n",
              " memory_limit: 17179869184\n",
              " locality {\n",
              " }\n",
              " incarnation: 8590434492243324720\n",
              " physical_device_desc: \"device: XLA_CPU device\", name: \"/device:XLA_GPU:0\"\n",
              " device_type: \"XLA_GPU\"\n",
              " memory_limit: 17179869184\n",
              " locality {\n",
              " }\n",
              " incarnation: 2558942124441924130\n",
              " physical_device_desc: \"device: XLA_GPU device\", name: \"/device:GPU:0\"\n",
              " device_type: \"GPU\"\n",
              " memory_limit: 14912199066\n",
              " locality {\n",
              "   bus_id: 1\n",
              "   links {\n",
              "   }\n",
              " }\n",
              " incarnation: 12556214430452930385\n",
              " physical_device_desc: \"device: 0, name: Tesla T4, pci bus id: 0000:00:04.0, compute capability: 7.5\"]"
            ]
          },
          "metadata": {
            "tags": []
          },
          "execution_count": 4
        }
      ]
    },
    {
      "cell_type": "code",
      "metadata": {
        "id": "xGx1imnXfLvx",
        "colab_type": "code",
        "colab": {
          "base_uri": "https://localhost:8080/",
          "height": 121
        },
        "outputId": "ca418b10-5a37-456b-a9a2-461f3b281758"
      },
      "source": [
        "from google.colab import drive\n",
        "drive.mount('/content/drive')"
      ],
      "execution_count": 8,
      "outputs": [
        {
          "output_type": "stream",
          "text": [
            "Go to this URL in a browser: https://accounts.google.com/o/oauth2/auth?client_id=947318989803-6bn6qk8qdgf4n4g3pfee6491hc0brc4i.apps.googleusercontent.com&redirect_uri=urn%3Aietf%3Awg%3Aoauth%3A2.0%3Aoob&scope=email%20https%3A%2F%2Fwww.googleapis.com%2Fauth%2Fdocs.test%20https%3A%2F%2Fwww.googleapis.com%2Fauth%2Fdrive%20https%3A%2F%2Fwww.googleapis.com%2Fauth%2Fdrive.photos.readonly%20https%3A%2F%2Fwww.googleapis.com%2Fauth%2Fpeopleapi.readonly&response_type=code\n",
            "\n",
            "Enter your authorization code:\n",
            "··········\n",
            "Mounted at /content/drive\n"
          ],
          "name": "stdout"
        }
      ]
    },
    {
      "cell_type": "code",
      "metadata": {
        "id": "tXoBLTzwjefG",
        "colab_type": "code",
        "colab": {}
      },
      "source": [
        "from google.colab import drive\n",
        "drive.mount('/content/drive')"
      ],
      "execution_count": 0,
      "outputs": []
    },
    {
      "cell_type": "code",
      "metadata": {
        "id": "cZAyRAqZgrVs",
        "colab_type": "code",
        "colab": {}
      },
      "source": [
        "!pip install -q keras "
      ],
      "execution_count": 0,
      "outputs": []
    },
    {
      "cell_type": "code",
      "metadata": {
        "id": "lWyxcyjqfTuD",
        "colab_type": "code",
        "colab": {}
      },
      "source": [
        "\n",
        "# dataset has blood test \n",
        "from keras.layers import Input, Lambda, Dense, Flatten\n",
        "from keras.models import Model\n",
        "#from keras.applications.vgg16 import VGG16\n",
        "from keras.applications.vgg19 import VGG19\n",
        "from keras.applications.vgg16 import preprocess_input\n",
        "from keras.preprocessing import image\n",
        "from keras.preprocessing.image import ImageDataGenerator\n",
        "from keras.models import Sequential\n",
        "import numpy as np\n",
        "from glob import glob\n",
        "import matplotlib.pyplot as plt\n",
        "\n"
      ],
      "execution_count": 0,
      "outputs": []
    },
    {
      "cell_type": "code",
      "metadata": {
        "id": "8FWTbdgVfUIq",
        "colab_type": "code",
        "colab": {}
      },
      "source": [
        "# re-size all the images to this\n",
        "IMAGE_SIZE = [224, 224]\n",
        "\n",
        "train_path = '/content/drive/My Drive/Colab Notebooks/cell_images/Train'\n",
        "valid_path = '/content/drive/My Drive/Colab Notebooks/cell_images/Test'\n",
        "\n",
        "\n"
      ],
      "execution_count": 0,
      "outputs": []
    },
    {
      "cell_type": "code",
      "metadata": {
        "id": "PDwPW2BjkmkV",
        "colab_type": "code",
        "colab": {}
      },
      "source": [
        "# add preprocessing layer to the front of VGG\n",
        "vgg = VGG19(input_shape=IMAGE_SIZE + [3], weights='imagenet', include_top=False)  #3 means RGB(red green black) image \n",
        "\n",
        "# don't train existing weights\n",
        "for layer in vgg.layers:\n",
        "  layer.trainable = False\n",
        "  \n",
        "\n",
        "  # useful for getting number of classes\n",
        "folders = glob('/content/drive/My Drive/Colab Notebooks/cell_images/Train/*')\n",
        "  \n",
        "\n"
      ],
      "execution_count": 0,
      "outputs": []
    },
    {
      "cell_type": "code",
      "metadata": {
        "id": "Rcl-IAAOkm1N",
        "colab_type": "code",
        "colab": {
          "base_uri": "https://localhost:8080/",
          "height": 958
        },
        "outputId": "52d57915-e837-4eda-e90f-547ff736a169"
      },
      "source": [
        "# our layers - you can add more if you want\n",
        "x = Flatten()(vgg.output)\n",
        "# x = Dense(1000, activation='relu')(x)\n",
        "prediction = Dense(len(folders), activation='softmax')(x)  #softmax is activation function to same as sigmoid , to predict bet 0 to 1\n",
        "\n",
        "# create a model object\n",
        "model = Model(inputs=vgg.input, outputs=prediction)\n",
        "\n",
        "# view the structure of the model\n",
        "model.summary()\n",
        "\n",
        "# tell the model what cost and optimization method to use\n",
        "model.compile(\n",
        "  loss='categorical_crossentropy',\n",
        "  optimizer='adam',\n",
        "  metrics=['accuracy']\n",
        ")\n",
        "\n",
        "\n"
      ],
      "execution_count": 20,
      "outputs": [
        {
          "output_type": "stream",
          "text": [
            "Model: \"model_2\"\n",
            "_________________________________________________________________\n",
            "Layer (type)                 Output Shape              Param #   \n",
            "=================================================================\n",
            "input_2 (InputLayer)         (None, 224, 224, 3)       0         \n",
            "_________________________________________________________________\n",
            "block1_conv1 (Conv2D)        (None, 224, 224, 64)      1792      \n",
            "_________________________________________________________________\n",
            "block1_conv2 (Conv2D)        (None, 224, 224, 64)      36928     \n",
            "_________________________________________________________________\n",
            "block1_pool (MaxPooling2D)   (None, 112, 112, 64)      0         \n",
            "_________________________________________________________________\n",
            "block2_conv1 (Conv2D)        (None, 112, 112, 128)     73856     \n",
            "_________________________________________________________________\n",
            "block2_conv2 (Conv2D)        (None, 112, 112, 128)     147584    \n",
            "_________________________________________________________________\n",
            "block2_pool (MaxPooling2D)   (None, 56, 56, 128)       0         \n",
            "_________________________________________________________________\n",
            "block3_conv1 (Conv2D)        (None, 56, 56, 256)       295168    \n",
            "_________________________________________________________________\n",
            "block3_conv2 (Conv2D)        (None, 56, 56, 256)       590080    \n",
            "_________________________________________________________________\n",
            "block3_conv3 (Conv2D)        (None, 56, 56, 256)       590080    \n",
            "_________________________________________________________________\n",
            "block3_conv4 (Conv2D)        (None, 56, 56, 256)       590080    \n",
            "_________________________________________________________________\n",
            "block3_pool (MaxPooling2D)   (None, 28, 28, 256)       0         \n",
            "_________________________________________________________________\n",
            "block4_conv1 (Conv2D)        (None, 28, 28, 512)       1180160   \n",
            "_________________________________________________________________\n",
            "block4_conv2 (Conv2D)        (None, 28, 28, 512)       2359808   \n",
            "_________________________________________________________________\n",
            "block4_conv3 (Conv2D)        (None, 28, 28, 512)       2359808   \n",
            "_________________________________________________________________\n",
            "block4_conv4 (Conv2D)        (None, 28, 28, 512)       2359808   \n",
            "_________________________________________________________________\n",
            "block4_pool (MaxPooling2D)   (None, 14, 14, 512)       0         \n",
            "_________________________________________________________________\n",
            "block5_conv1 (Conv2D)        (None, 14, 14, 512)       2359808   \n",
            "_________________________________________________________________\n",
            "block5_conv2 (Conv2D)        (None, 14, 14, 512)       2359808   \n",
            "_________________________________________________________________\n",
            "block5_conv3 (Conv2D)        (None, 14, 14, 512)       2359808   \n",
            "_________________________________________________________________\n",
            "block5_conv4 (Conv2D)        (None, 14, 14, 512)       2359808   \n",
            "_________________________________________________________________\n",
            "block5_pool (MaxPooling2D)   (None, 7, 7, 512)         0         \n",
            "_________________________________________________________________\n",
            "flatten_2 (Flatten)          (None, 25088)             0         \n",
            "_________________________________________________________________\n",
            "dense_2 (Dense)              (None, 2)                 50178     \n",
            "=================================================================\n",
            "Total params: 20,074,562\n",
            "Trainable params: 50,178\n",
            "Non-trainable params: 20,024,384\n",
            "_________________________________________________________________\n"
          ],
          "name": "stdout"
        }
      ]
    },
    {
      "cell_type": "code",
      "metadata": {
        "id": "R7W2y2xaknDc",
        "colab_type": "code",
        "colab": {
          "base_uri": "https://localhost:8080/",
          "height": 50
        },
        "outputId": "0114f8bf-a686-48cc-fcb2-45a04d18d6cb"
      },
      "source": [
        "# Use the Image Data Generator to import the images from the dataset\n",
        "from keras.preprocessing.image import ImageDataGenerator\n",
        "\n",
        "train_datagen = ImageDataGenerator(rescale = 1./255,\n",
        "                                   shear_range = 0.2,\n",
        "                                   zoom_range = 0.2,\n",
        "                                   horizontal_flip = True)\n",
        "\n",
        "test_datagen = ImageDataGenerator(rescale = 1./255)\n",
        "\n",
        "training_set = train_datagen.flow_from_directory('/content/drive/My Drive/Colab Notebooks/cell_images/Train',\n",
        "                                                 target_size = (224, 224),\n",
        "                                                 batch_size = 32,\n",
        "                                                 class_mode = 'categorical')\n",
        "\n",
        "test_set = test_datagen.flow_from_directory('/content/drive/My Drive/Colab Notebooks/cell_images/Test',\n",
        "                                            target_size = (224, 224),\n",
        "                                            batch_size = 32,\n",
        "                                            class_mode = 'categorical')\n",
        "\n",
        "\n"
      ],
      "execution_count": 21,
      "outputs": [
        {
          "output_type": "stream",
          "text": [
            "Found 1000 images belonging to 2 classes.\n",
            "Found 200 images belonging to 2 classes.\n"
          ],
          "name": "stdout"
        }
      ]
    },
    {
      "cell_type": "code",
      "metadata": {
        "id": "KJ806gYWkzmM",
        "colab_type": "code",
        "colab": {
          "base_uri": "https://localhost:8080/",
          "height": 1000
        },
        "outputId": "5f229edd-5388-47ae-9ee2-eb0c3bbe8cdb"
      },
      "source": [
        "# fit the model : 1 hr time to build\n",
        "r = model.fit_generator(\n",
        "  training_set,\n",
        "  validation_data=test_set,\n",
        "  epochs=50,\n",
        "  steps_per_epoch=len(training_set),\n",
        "  validation_steps=len(test_set)\n",
        ")\n",
        "\n",
        "\"\"\"\n",
        "Epoch 1/10\n",
        "32/32 [==============================] - 13s 395ms/step - loss: 0.1465 - acc: 0.9415 - val_loss: 0.5919 - val_acc: 0.7950\n",
        "Epoch 2/10\n",
        "32/32 [==============================] - 11s 352ms/step - loss: 0.1469 - acc: 0.9482 - val_loss: 0.4120 - val_acc: 0.8300\n",
        "Epoch 3/10\n",
        "32/32 [==============================] - 11s 359ms/step - loss: 0.1273 - acc: 0.9531 - val_loss: 1.0583 - val_acc: 0.7250\n",
        "Epoch 4/10\n",
        "32/32 [==============================] - 11s 358ms/step - loss: 0.1461 - acc: 0.9415 - val_loss: 0.8447 - val_acc: 0.7450\n",
        "Epoch 5/10\n",
        "32/32 [==============================] - 12s 368ms/step - loss: 0.1297 - acc: 0.9472 - val_loss: 0.5081 - val_acc: 0.8050\n",
        "Epoch 6/10\n",
        "32/32 [==============================] - 11s 353ms/step - loss: 0.1014 - acc: 0.9648 - val_loss: 1.0177 - val_acc: 0.7200\n",
        "Epoch 7/10\n",
        "32/32 [==============================] - 11s 352ms/step - loss: 0.1305 - acc: 0.9493 - val_loss: 0.6202 - val_acc: 0.7700\n",
        "Epoch 8/10\n",
        "32/32 [==============================] - 11s 358ms/step - loss: 0.1540 - acc: 0.9406 - val_loss: 1.0635 - val_acc: 0.7400\n",
        "Epoch 9/10\n",
        "32/32 [==============================] - 11s 358ms/step - loss: 0.0946 - acc: 0.9648 - val_loss: 0.8195 - val_acc: 0.7500\n",
        "Epoch 10/10\n",
        "32/32 [==============================] - 11s 358ms/step - loss: 0.0849 - acc: 0.9697 - val_loss: 1.0206 - val_acc: 0.7450\n",
        "\"\"\"\n",
        "\n"
      ],
      "execution_count": 43,
      "outputs": [
        {
          "output_type": "stream",
          "text": [
            "Epoch 1/50\n",
            "32/32 [==============================] - 13s 394ms/step - loss: 0.0808 - acc: 0.9699 - val_loss: 0.3355 - val_acc: 0.8800\n",
            "Epoch 2/50\n",
            "32/32 [==============================] - 12s 362ms/step - loss: 0.1237 - acc: 0.9463 - val_loss: 0.4739 - val_acc: 0.8500\n",
            "Epoch 3/50\n",
            "32/32 [==============================] - 12s 366ms/step - loss: 0.0676 - acc: 0.9717 - val_loss: 0.9914 - val_acc: 0.7400\n",
            "Epoch 4/50\n",
            "32/32 [==============================] - 11s 353ms/step - loss: 0.0662 - acc: 0.9805 - val_loss: 0.6719 - val_acc: 0.7950\n",
            "Epoch 5/50\n",
            "32/32 [==============================] - 11s 347ms/step - loss: 0.0751 - acc: 0.9717 - val_loss: 0.8001 - val_acc: 0.7800\n",
            "Epoch 6/50\n",
            "32/32 [==============================] - 12s 365ms/step - loss: 0.0662 - acc: 0.9736 - val_loss: 0.5829 - val_acc: 0.8150\n",
            "Epoch 7/50\n",
            "32/32 [==============================] - 11s 358ms/step - loss: 0.0594 - acc: 0.9775 - val_loss: 0.8785 - val_acc: 0.7450\n",
            "Epoch 8/50\n",
            "32/32 [==============================] - 11s 352ms/step - loss: 0.0603 - acc: 0.9756 - val_loss: 0.4159 - val_acc: 0.8600\n",
            "Epoch 9/50\n",
            "32/32 [==============================] - 11s 353ms/step - loss: 0.0835 - acc: 0.9736 - val_loss: 0.6624 - val_acc: 0.7950\n",
            "Epoch 10/50\n",
            "32/32 [==============================] - 11s 358ms/step - loss: 0.0813 - acc: 0.9688 - val_loss: 0.5318 - val_acc: 0.8300\n",
            "Epoch 11/50\n",
            "32/32 [==============================] - 11s 349ms/step - loss: 0.0642 - acc: 0.9746 - val_loss: 1.3355 - val_acc: 0.7150\n",
            "Epoch 12/50\n",
            "32/32 [==============================] - 11s 346ms/step - loss: 0.0840 - acc: 0.9619 - val_loss: 1.5717 - val_acc: 0.7100\n",
            "Epoch 13/50\n",
            "32/32 [==============================] - 11s 354ms/step - loss: 0.1069 - acc: 0.9550 - val_loss: 1.0503 - val_acc: 0.7550\n",
            "Epoch 14/50\n",
            "32/32 [==============================] - 11s 356ms/step - loss: 0.0595 - acc: 0.9795 - val_loss: 0.8084 - val_acc: 0.7900\n",
            "Epoch 15/50\n",
            "32/32 [==============================] - 11s 357ms/step - loss: 0.0448 - acc: 0.9873 - val_loss: 0.8575 - val_acc: 0.7800\n",
            "Epoch 16/50\n",
            "32/32 [==============================] - 12s 364ms/step - loss: 0.0484 - acc: 0.9795 - val_loss: 0.6595 - val_acc: 0.8000\n",
            "Epoch 17/50\n",
            "32/32 [==============================] - 11s 352ms/step - loss: 0.0500 - acc: 0.9853 - val_loss: 0.7463 - val_acc: 0.7950\n",
            "Epoch 18/50\n",
            "32/32 [==============================] - 11s 353ms/step - loss: 0.0760 - acc: 0.9746 - val_loss: 1.2564 - val_acc: 0.7400\n",
            "Epoch 19/50\n",
            "32/32 [==============================] - 11s 354ms/step - loss: 0.0783 - acc: 0.9688 - val_loss: 0.7053 - val_acc: 0.8000\n",
            "Epoch 20/50\n",
            "32/32 [==============================] - 11s 358ms/step - loss: 0.0788 - acc: 0.9717 - val_loss: 1.1287 - val_acc: 0.7550\n",
            "Epoch 21/50\n",
            "32/32 [==============================] - 11s 356ms/step - loss: 0.0999 - acc: 0.9648 - val_loss: 0.8466 - val_acc: 0.7950\n",
            "Epoch 22/50\n",
            "32/32 [==============================] - 11s 348ms/step - loss: 0.0543 - acc: 0.9775 - val_loss: 0.8324 - val_acc: 0.7850\n",
            "Epoch 23/50\n",
            "32/32 [==============================] - 11s 357ms/step - loss: 0.0400 - acc: 0.9892 - val_loss: 0.5623 - val_acc: 0.8350\n",
            "Epoch 24/50\n",
            "32/32 [==============================] - 11s 352ms/step - loss: 0.0326 - acc: 0.9902 - val_loss: 1.2016 - val_acc: 0.7400\n",
            "Epoch 25/50\n",
            "32/32 [==============================] - 12s 363ms/step - loss: 0.0488 - acc: 0.9805 - val_loss: 1.3496 - val_acc: 0.7250\n",
            "Epoch 26/50\n",
            "32/32 [==============================] - 12s 361ms/step - loss: 0.0633 - acc: 0.9775 - val_loss: 0.9870 - val_acc: 0.7700\n",
            "Epoch 27/50\n",
            "32/32 [==============================] - 11s 353ms/step - loss: 0.0347 - acc: 0.9873 - val_loss: 0.8954 - val_acc: 0.7800\n",
            "Epoch 28/50\n",
            "32/32 [==============================] - 11s 358ms/step - loss: 0.0530 - acc: 0.9815 - val_loss: 1.1892 - val_acc: 0.7500\n",
            "Epoch 29/50\n",
            "32/32 [==============================] - 12s 361ms/step - loss: 0.0484 - acc: 0.9834 - val_loss: 0.7388 - val_acc: 0.8050\n",
            "Epoch 30/50\n",
            "32/32 [==============================] - 11s 349ms/step - loss: 0.0332 - acc: 0.9863 - val_loss: 0.7546 - val_acc: 0.8050\n",
            "Epoch 31/50\n",
            "32/32 [==============================] - 11s 357ms/step - loss: 0.0357 - acc: 0.9932 - val_loss: 0.8681 - val_acc: 0.7950\n",
            "Epoch 32/50\n",
            "32/32 [==============================] - 11s 346ms/step - loss: 0.0293 - acc: 0.9951 - val_loss: 0.5427 - val_acc: 0.8500\n",
            "Epoch 33/50\n",
            "32/32 [==============================] - 11s 358ms/step - loss: 0.0334 - acc: 0.9863 - val_loss: 1.1340 - val_acc: 0.7700\n",
            "Epoch 34/50\n",
            "32/32 [==============================] - 11s 358ms/step - loss: 0.0293 - acc: 0.9883 - val_loss: 0.5731 - val_acc: 0.8400\n",
            "Epoch 35/50\n",
            "32/32 [==============================] - 12s 367ms/step - loss: 0.0430 - acc: 0.9873 - val_loss: 0.9444 - val_acc: 0.7850\n",
            "Epoch 36/50\n",
            "32/32 [==============================] - 12s 359ms/step - loss: 0.0293 - acc: 0.9912 - val_loss: 1.1550 - val_acc: 0.7700\n",
            "Epoch 37/50\n",
            "32/32 [==============================] - 11s 351ms/step - loss: 0.0470 - acc: 0.9795 - val_loss: 0.5818 - val_acc: 0.8250\n",
            "Epoch 38/50\n",
            "32/32 [==============================] - 12s 366ms/step - loss: 0.0704 - acc: 0.9717 - val_loss: 0.4211 - val_acc: 0.8800\n",
            "Epoch 39/50\n",
            "32/32 [==============================] - 11s 359ms/step - loss: 0.0446 - acc: 0.9844 - val_loss: 0.5018 - val_acc: 0.8750\n",
            "Epoch 40/50\n",
            "32/32 [==============================] - 12s 363ms/step - loss: 0.0560 - acc: 0.9775 - val_loss: 1.4733 - val_acc: 0.7250\n",
            "Epoch 41/50\n",
            "32/32 [==============================] - 12s 360ms/step - loss: 0.0259 - acc: 0.9912 - val_loss: 0.6543 - val_acc: 0.8250\n",
            "Epoch 42/50\n",
            "32/32 [==============================] - 12s 362ms/step - loss: 0.0390 - acc: 0.9844 - val_loss: 0.9278 - val_acc: 0.7900\n",
            "Epoch 43/50\n",
            "32/32 [==============================] - 11s 358ms/step - loss: 0.0431 - acc: 0.9853 - val_loss: 1.4052 - val_acc: 0.7450\n",
            "Epoch 44/50\n",
            "32/32 [==============================] - 11s 356ms/step - loss: 0.0428 - acc: 0.9853 - val_loss: 0.7209 - val_acc: 0.8200\n",
            "Epoch 45/50\n",
            "32/32 [==============================] - 12s 361ms/step - loss: 0.0679 - acc: 0.9677 - val_loss: 0.4280 - val_acc: 0.8800\n",
            "Epoch 46/50\n",
            "32/32 [==============================] - 11s 352ms/step - loss: 0.0758 - acc: 0.9697 - val_loss: 1.2043 - val_acc: 0.7900\n",
            "Epoch 47/50\n",
            "32/32 [==============================] - 12s 364ms/step - loss: 0.0703 - acc: 0.9737 - val_loss: 1.2479 - val_acc: 0.7850\n",
            "Epoch 48/50\n",
            "32/32 [==============================] - 11s 359ms/step - loss: 0.0295 - acc: 0.9912 - val_loss: 0.9975 - val_acc: 0.8100\n",
            "Epoch 49/50\n",
            "32/32 [==============================] - 11s 353ms/step - loss: 0.0316 - acc: 0.9873 - val_loss: 1.2664 - val_acc: 0.7700\n",
            "Epoch 50/50\n",
            "32/32 [==============================] - 11s 350ms/step - loss: 0.0300 - acc: 0.9902 - val_loss: 1.5217 - val_acc: 0.7450\n"
          ],
          "name": "stdout"
        },
        {
          "output_type": "execute_result",
          "data": {
            "text/plain": [
              "'\\nEpoch 1/10\\n32/32 [==============================] - 13s 395ms/step - loss: 0.1465 - acc: 0.9415 - val_loss: 0.5919 - val_acc: 0.7950\\nEpoch 2/10\\n32/32 [==============================] - 11s 352ms/step - loss: 0.1469 - acc: 0.9482 - val_loss: 0.4120 - val_acc: 0.8300\\nEpoch 3/10\\n32/32 [==============================] - 11s 359ms/step - loss: 0.1273 - acc: 0.9531 - val_loss: 1.0583 - val_acc: 0.7250\\nEpoch 4/10\\n32/32 [==============================] - 11s 358ms/step - loss: 0.1461 - acc: 0.9415 - val_loss: 0.8447 - val_acc: 0.7450\\nEpoch 5/10\\n32/32 [==============================] - 12s 368ms/step - loss: 0.1297 - acc: 0.9472 - val_loss: 0.5081 - val_acc: 0.8050\\nEpoch 6/10\\n32/32 [==============================] - 11s 353ms/step - loss: 0.1014 - acc: 0.9648 - val_loss: 1.0177 - val_acc: 0.7200\\nEpoch 7/10\\n32/32 [==============================] - 11s 352ms/step - loss: 0.1305 - acc: 0.9493 - val_loss: 0.6202 - val_acc: 0.7700\\nEpoch 8/10\\n32/32 [==============================] - 11s 358ms/step - loss: 0.1540 - acc: 0.9406 - val_loss: 1.0635 - val_acc: 0.7400\\nEpoch 9/10\\n32/32 [==============================] - 11s 358ms/step - loss: 0.0946 - acc: 0.9648 - val_loss: 0.8195 - val_acc: 0.7500\\nEpoch 10/10\\n32/32 [==============================] - 11s 358ms/step - loss: 0.0849 - acc: 0.9697 - val_loss: 1.0206 - val_acc: 0.7450\\n'"
            ]
          },
          "metadata": {
            "tags": []
          },
          "execution_count": 43
        }
      ]
    },
    {
      "cell_type": "code",
      "metadata": {
        "id": "ZOpCoc5nkz0U",
        "colab_type": "code",
        "colab": {
          "base_uri": "https://localhost:8080/",
          "height": 538
        },
        "outputId": "f701642a-0bd0-4420-f71f-16320ed50428"
      },
      "source": [
        "# loss\n",
        "plt.plot(r.history['loss'], label='train loss')\n",
        "plt.plot(r.history['val_loss'], label='val loss')\n",
        "plt.legend()\n",
        "plt.show()\n",
        "plt.savefig('/content/drive/My Drive/Colab Notebooks/cell_images/LossVal_loss')\n",
        "\n",
        "# accuracies\n",
        "plt.plot(r.history['acc'], label='train acc')\n",
        "plt.plot(r.history['val_acc'], label='val acc')\n",
        "plt.legend()\n",
        "plt.show()\n",
        "plt.savefig('/content/drive/My Drive/Colab Notebooks/cell_images/AccVal_acc')\n",
        "\n"
      ],
      "execution_count": 44,
      "outputs": [
        {
          "output_type": "display_data",
          "data": {
            "image/png": "[encoded data removed]",
            "text/plain": [
              "<Figure size 432x288 with 1 Axes>"
            ]
          },
          "metadata": {
            "tags": []
          }
        },
        {
          "output_type": "display_data",
          "data": {
            "image/png": "[encoded data removed]",
            "text/plain": [
              "<Figure size 432x288 with 1 Axes>"
            ]
          },
          "metadata": {
            "tags": []
          }
        },
        {
          "output_type": "display_data",
          "data": {
            "text/plain": [
              "<Figure size 432x288 with 0 Axes>"
            ]
          },
          "metadata": {
            "tags": []
          }
        }
      ]
    },
    {
      "cell_type": "code",
      "metadata": {
        "id": "bAyfRSULptyi",
        "colab_type": "code",
        "colab": {}
      },
      "source": [
        "import tensorflow as tf\n",
        "\n",
        "from keras.models import load_model\n",
        "\n",
        "model.save('/content/drive/My Drive/Colab Notebooks/cell_images/model_vgg19.h5')\n"
      ],
      "execution_count": 0,
      "outputs": []
    },
    {
      "cell_type": "code",
      "metadata": {
        "id": "LgR6Dripk26U",
        "colab_type": "code",
        "colab": {
          "base_uri": "https://localhost:8080/",
          "height": 34
        },
        "outputId": "290c9b43-f2d1-4966-c49d-eb8c088d5507"
      },
      "source": [
        "from keras.models import load_model\n",
        "from keras.preprocessing import image\n",
        "from keras.applications.vgg16 import preprocess_input\n",
        "import numpy as np\n",
        "model = load_model('/content/drive/My Drive/Colab Notebooks/cell_images/model_vgg19.h5')\n",
        "img = image.load_img('/content/drive/My Drive/Colab Notebooks/cell_images/Test/Parasitized/C184P145ThinF_IMG_20151203_103637_cell_178.png', target_size=(224, 224))\n",
        "x = image.img_to_array(img)\n",
        "x = np.expand_dims(x, axis=0)\n",
        "img_data = preprocess_input(x)\n",
        "classes = model.predict(img_data)\n",
        "classes  #predict prasities"
      ],
      "execution_count": 46,
      "outputs": [
        {
          "output_type": "execute_result",
          "data": {
            "text/plain": [
              "array([[1., 0.]], dtype=float32)"
            ]
          },
          "metadata": {
            "tags": []
          },
          "execution_count": 46
        }
      ]
    },
    {
      "cell_type": "code",
      "metadata": {
        "id": "kEUg4x7esQLK",
        "colab_type": "code",
        "colab": {}
      },
      "source": [
        "img = image.load_img('/content/drive/My Drive/Colab Notebooks/cell_images/Test/Uninfected/C240ThinF_IMG_20151127_115328_cell_16.png', target_size=(224, 224))\n",
        "x = image.img_to_array(img)\n",
        "x = np.expand_dims(x, axis=0)\n",
        "img_data = preprocess_input(x)\n",
        "classes = model.predict(img_data)"
      ],
      "execution_count": 0,
      "outputs": []
    }
  ]
}